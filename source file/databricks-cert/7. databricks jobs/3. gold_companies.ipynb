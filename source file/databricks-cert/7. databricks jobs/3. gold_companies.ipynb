{
 "cells": [
  {
   "cell_type": "markdown",
   "metadata": {
    "application/vnd.databricks.v1+cell": {
     "cellMetadata": {},
     "inputWidgets": {},
     "nuid": "055b1f5b-cf96-486c-aafd-2494daca3149",
     "showTitle": false,
     "tableResultSettingsMap": {},
     "title": ""
    }
   },
   "source": [
    "## Create company summary in the gold layer\n",
    "1. Create the gold schema if doesn't already exists\n",
    "1. Create the gold company_summary with the number of companies per country. "
   ]
  },
  {
   "cell_type": "code",
   "execution_count": 0,
   "metadata": {
    "application/vnd.databricks.v1+cell": {
     "cellMetadata": {},
     "inputWidgets": {},
     "nuid": "41fc7477-c4bb-4b9e-b21c-1cdf7cd92d67",
     "showTitle": false,
     "tableResultSettingsMap": {},
     "title": ""
    }
   },
   "outputs": [],
   "source": [
    "CREATE SCHEMA IF NOT EXISTS demo.gold\n",
    "     MANAGED LOCATION 'abfss://demo@databricksuche.dfs.core.windows.net/gold';  "
   ]
  },
  {
   "cell_type": "code",
   "execution_count": 0,
   "metadata": {
    "application/vnd.databricks.v1+cell": {
     "cellMetadata": {},
     "inputWidgets": {},
     "nuid": "dbc0ffa9-c0dd-443f-96c2-445958ba96c0",
     "showTitle": false,
     "tableResultSettingsMap": {},
     "title": ""
    }
   },
   "outputs": [],
   "source": [
    "DROP TABLE IF EXISTS demo.gold.company_summary;\n",
    "\n",
    "CREATE TABLE demo.gold.company_summary\n",
    "AS\n",
    "SELECT country,\n",
    "       COUNT(*) AS num_companies\n",
    "  FROM demo.silver.companies\n",
    " GROUP BY country;    "
   ]
  }
 ],
 "metadata": {
  "application/vnd.databricks.v1+notebook": {
   "computePreferences": null,
   "dashboards": [],
   "environmentMetadata": {
    "base_environment": "",
    "environment_version": "2"
   },
   "inputWidgetPreferences": null,
   "language": "sql",
   "notebookMetadata": {},
   "notebookName": "3. gold_companies",
   "widgets": {}
  },
  "language_info": {
   "name": "sql"
  }
 },
 "nbformat": 4,
 "nbformat_minor": 0
}
