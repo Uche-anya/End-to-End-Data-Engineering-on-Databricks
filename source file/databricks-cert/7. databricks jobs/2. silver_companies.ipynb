{
 "cells": [
  {
   "cell_type": "markdown",
   "metadata": {
    "application/vnd.databricks.v1+cell": {
     "cellMetadata": {},
     "inputWidgets": {},
     "nuid": "9a9ea096-3ff8-4377-a300-ac27cfd9f3ff",
     "showTitle": false,
     "tableResultSettingsMap": {},
     "title": ""
    }
   },
   "source": [
    "## Transform the companies data and insert into silver layer\n",
    "1. Create the silver schema if doesn't already exists\n",
    "1. Create the silver companies table with the data bronze layer and generate the columns company_id and founded_year. "
   ]
  },
  {
   "cell_type": "code",
   "execution_count": 0,
   "metadata": {
    "application/vnd.databricks.v1+cell": {
     "cellMetadata": {},
     "inputWidgets": {},
     "nuid": "c081f534-94e0-4c62-9039-3cfdb7dea515",
     "showTitle": false,
     "tableResultSettingsMap": {},
     "title": ""
    }
   },
   "outputs": [],
   "source": [
    "CREATE SCHEMA IF NOT EXISTS demo.silver\n",
    "     MANAGED LOCATION 'abfss://demo@databricksuche.dfs.core.windows.net/silver';  "
   ]
  },
  {
   "cell_type": "code",
   "execution_count": 0,
   "metadata": {
    "application/vnd.databricks.v1+cell": {
     "cellMetadata": {},
     "inputWidgets": {},
     "nuid": "ee1ca4f2-b5fd-45a2-adaa-ade447f47657",
     "showTitle": false,
     "tableResultSettingsMap": {},
     "title": ""
    }
   },
   "outputs": [],
   "source": [
    "DROP TABLE IF EXISTS demo.silver.companies;\n",
    "\n",
    "CREATE TABLE demo.silver.companies\n",
    "  (company_id   BIGINT GENERATED ALWAYS AS IDENTITY (START WITH 1 INCREMENT BY 1),\n",
    "   company_name STRING,\n",
    "   founded_date DATE,\n",
    "   founded_year INT GENERATED ALWAYS AS (YEAR(founded_date)),\n",
    "   country      STRING);\n",
    "\n",
    "INSERT INTO demo.silver.companies \n",
    "(company_name, founded_date, country)\n",
    "SELECT company_name,\n",
    "       founded_date,\n",
    "       country\n",
    "  FROM demo.bronze.companies;    "
   ]
  }
 ],
 "metadata": {
  "application/vnd.databricks.v1+notebook": {
   "computePreferences": null,
   "dashboards": [],
   "environmentMetadata": {
    "base_environment": "",
    "environment_version": "2"
   },
   "inputWidgetPreferences": null,
   "language": "sql",
   "notebookMetadata": {},
   "notebookName": "2. silver_companies",
   "widgets": {}
  },
  "language_info": {
   "name": "sql"
  }
 },
 "nbformat": 4,
 "nbformat_minor": 0
}
