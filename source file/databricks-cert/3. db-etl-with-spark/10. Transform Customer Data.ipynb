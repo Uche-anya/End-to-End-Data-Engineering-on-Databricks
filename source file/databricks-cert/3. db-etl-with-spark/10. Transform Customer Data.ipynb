{
 "cells": [
  {
   "cell_type": "markdown",
   "metadata": {
    "application/vnd.databricks.v1+cell": {
     "cellMetadata": {},
     "inputWidgets": {},
     "nuid": "397ae4b6-a7bf-4ece-a4bc-0cb4eb516f5c",
     "showTitle": false,
     "tableResultSettingsMap": {},
     "title": ""
    }
   },
   "source": [
    "## Transform Customer Data\n",
    "1. Remove records with NULL customer_id \n",
    "1. Remove exact duplicate records\n",
    "1. Remove duplicate records based on created_timestamp\n",
    "1. CAST the columns to the correct Data Type\n",
    "1. Write transformed data to the Silver schema"
   ]
  },
  {
   "cell_type": "markdown",
   "metadata": {
    "application/vnd.databricks.v1+cell": {
     "cellMetadata": {},
     "inputWidgets": {},
     "nuid": "7dcc7433-5347-4c01-bc72-30e8faaba120",
     "showTitle": false,
     "tableResultSettingsMap": {},
     "title": ""
    }
   },
   "source": [
    "### 1. Remove records with NULL customer_id"
   ]
  },
  {
   "cell_type": "code",
   "execution_count": 0,
   "metadata": {
    "application/vnd.databricks.v1+cell": {
     "cellMetadata": {
      "byteLimit": 2048000,
      "rowLimit": 10000
     },
     "inputWidgets": {},
     "nuid": "2b3649e7-3b88-4f63-a740-08881ac8a640",
     "showTitle": false,
     "tableResultSettingsMap": {},
     "title": ""
    }
   },
   "outputs": [],
   "source": [
    "select * from gizmobox.bronze.v_customers\n",
    "where customer_id is not null"
   ]
  },
  {
   "cell_type": "markdown",
   "metadata": {
    "application/vnd.databricks.v1+cell": {
     "cellMetadata": {},
     "inputWidgets": {},
     "nuid": "dd18a658-a5f5-4cd3-98f8-054c40ca15e1",
     "showTitle": false,
     "tableResultSettingsMap": {},
     "title": ""
    }
   },
   "source": [
    "### 2. Remove exact duplicate records"
   ]
  },
  {
   "cell_type": "code",
   "execution_count": 0,
   "metadata": {
    "application/vnd.databricks.v1+cell": {
     "cellMetadata": {
      "byteLimit": 2048000,
      "rowLimit": 10000
     },
     "inputWidgets": {},
     "nuid": "c06d5359-e12d-489a-bfd9-75e6ddbd2d14",
     "showTitle": false,
     "tableResultSettingsMap": {},
     "title": ""
    }
   },
   "outputs": [],
   "source": [
    "select distinct * from gizmobox.bronze.v_customers \n",
    "where customer_id is not null\n",
    "order by customer_id;\n"
   ]
  },
  {
   "cell_type": "code",
   "execution_count": 0,
   "metadata": {
    "application/vnd.databricks.v1+cell": {
     "cellMetadata": {
      "byteLimit": 2048000,
      "rowLimit": 10000
     },
     "inputWidgets": {},
     "nuid": "81960af4-2e51-406c-ada5-9f2baaef5b50",
     "showTitle": false,
     "tableResultSettingsMap": {},
     "title": ""
    }
   },
   "outputs": [],
   "source": [
    "create or replace temporary view v_customers_distinct\n",
    "as select distinct * from gizmobox.bronze.v_customers \n",
    "where customer_id is not null\n"
   ]
  },
  {
   "cell_type": "code",
   "execution_count": 0,
   "metadata": {
    "application/vnd.databricks.v1+cell": {
     "cellMetadata": {
      "byteLimit": 2048000,
      "rowLimit": 10000
     },
     "inputWidgets": {},
     "nuid": "7b3cde89-17fb-4ed9-91fe-64a6399b1442",
     "showTitle": false,
     "tableResultSettingsMap": {},
     "title": ""
    }
   },
   "outputs": [],
   "source": [
    "select customer_id, \n",
    "max(created_timestamp) as max_created_timestamp\n",
    "from v_customers_distinct\n",
    "group by customer_id"
   ]
  },
  {
   "cell_type": "code",
   "execution_count": 0,
   "metadata": {
    "application/vnd.databricks.v1+cell": {
     "cellMetadata": {
      "byteLimit": 2048000,
      "rowLimit": 10000
     },
     "inputWidgets": {},
     "nuid": "36c1983f-5c75-44c6-881d-ccdff5e55622",
     "showTitle": false,
     "tableResultSettingsMap": {},
     "title": ""
    }
   },
   "outputs": [],
   "source": [
    "with cte_max as (\n",
    "  select customer_id, \n",
    "  max(created_timestamp) as max_created_timestamp\n",
    "  from v_customers_distinct\n",
    "  group by customer_id\n",
    ")\n",
    "select * from v_customers_distinct t \n",
    "join cte_max c on t.customer_id = c.customer_id and t.created_timestamp = c.max_created_timestamp"
   ]
  },
  {
   "cell_type": "markdown",
   "metadata": {
    "application/vnd.databricks.v1+cell": {
     "cellMetadata": {},
     "inputWidgets": {},
     "nuid": "531bc04c-67c7-498e-9983-ceacbcf03720",
     "showTitle": false,
     "tableResultSettingsMap": {},
     "title": ""
    }
   },
   "source": [
    "### 4. CAST the column values to the correct data type"
   ]
  },
  {
   "cell_type": "code",
   "execution_count": 0,
   "metadata": {
    "application/vnd.databricks.v1+cell": {
     "cellMetadata": {
      "byteLimit": 2048000,
      "rowLimit": 10000
     },
     "inputWidgets": {},
     "nuid": "90724a75-6504-49ee-a3d9-115766d614ed",
     "showTitle": false,
     "tableResultSettingsMap": {},
     "title": ""
    }
   },
   "outputs": [],
   "source": [
    "with cte_max as \n",
    "(\n",
    "  select customer_id,\n",
    "         max(created_timestamp) as max_created_timestamp\n",
    "  from v_customers_distinct\n",
    "  group by customer_id\n",
    ")\n",
    "select cast(t.created_timestamp as timestamp) as created_timestamp,\n",
    "       t.customer_id,\n",
    "       t.customer_name,\n",
    "       cast(t.date_of_birth as date) as date_of_birth,\n",
    "       t.email,\n",
    "       cast(t.member_since as date) as member_since,\n",
    "       t.telephone\n",
    "from v_customers_distinct t\n",
    "join cte_max c\n",
    "  on t.customer_id = c.customer_id \n",
    " and t.created_timestamp = c.max_created_timestamp;\n"
   ]
  },
  {
   "cell_type": "markdown",
   "metadata": {
    "application/vnd.databricks.v1+cell": {
     "cellMetadata": {},
     "inputWidgets": {},
     "nuid": "f52b7056-96da-4287-8778-61b89aa315c4",
     "showTitle": false,
     "tableResultSettingsMap": {},
     "title": ""
    }
   },
   "source": [
    "### 5. Write Data to a Delta Table"
   ]
  },
  {
   "cell_type": "code",
   "execution_count": 0,
   "metadata": {
    "application/vnd.databricks.v1+cell": {
     "cellMetadata": {
      "byteLimit": 2048000,
      "rowLimit": 10000
     },
     "inputWidgets": {},
     "nuid": "f818660c-812f-4853-bd58-6485e894c700",
     "showTitle": false,
     "tableResultSettingsMap": {},
     "title": ""
    }
   },
   "outputs": [],
   "source": [
    "create table gizmobox.silver.customers\n",
    "as\n",
    "with cte_max as \n",
    "(\n",
    "  select customer_id,\n",
    "         max(created_timestamp) as max_created_timestamp\n",
    "  from v_customers_distinct\n",
    "  group by customer_id\n",
    ")\n",
    "select cast(t.created_timestamp as timestamp) as created_timestamp,\n",
    "       t.customer_id,\n",
    "       t.customer_name,\n",
    "       cast(t.date_of_birth as date) as date_of_birth,\n",
    "       t.email,\n",
    "       cast(t.member_since as date) as member_since,\n",
    "       t.telephone\n",
    "from v_customers_distinct t\n",
    "join cte_max m \n",
    "  on t.customer_id = m.customer_id \n",
    "  and t.created_timestamp = m.max_created_timestamp;\n"
   ]
  },
  {
   "cell_type": "code",
   "execution_count": 0,
   "metadata": {
    "application/vnd.databricks.v1+cell": {
     "cellMetadata": {
      "byteLimit": 2048000,
      "rowLimit": 10000
     },
     "inputWidgets": {},
     "nuid": "6d7ea5cf-7bd8-43c1-b6e5-48da2404731b",
     "showTitle": false,
     "tableResultSettingsMap": {},
     "title": ""
    }
   },
   "outputs": [],
   "source": [
    "select * from gizmobox.silver.customers"
   ]
  },
  {
   "cell_type": "code",
   "execution_count": 0,
   "metadata": {
    "application/vnd.databricks.v1+cell": {
     "cellMetadata": {
      "byteLimit": 2048000,
      "rowLimit": 10000
     },
     "inputWidgets": {},
     "nuid": "cf54bf38-d0ec-4105-b1ca-8dd3dfbec8a6",
     "showTitle": false,
     "tableResultSettingsMap": {},
     "title": ""
    }
   },
   "outputs": [],
   "source": [
    "describe extended gizmobox.silver.customers;"
   ]
  },
  {
   "cell_type": "markdown",
   "metadata": {
    "application/vnd.databricks.v1+cell": {
     "cellMetadata": {},
     "inputWidgets": {},
     "nuid": "02222cbd-d2cc-4d2e-b319-c396b674d703",
     "showTitle": false,
     "tableResultSettingsMap": {},
     "title": ""
    }
   },
   "source": []
  },
  {
   "cell_type": "markdown",
   "metadata": {
    "application/vnd.databricks.v1+cell": {
     "cellMetadata": {},
     "inputWidgets": {},
     "nuid": "80212fc5-ea1d-46fc-b4b5-a736438b280a",
     "showTitle": false,
     "tableResultSettingsMap": {},
     "title": ""
    }
   },
   "source": []
  },
  {
   "cell_type": "markdown",
   "metadata": {
    "application/vnd.databricks.v1+cell": {
     "cellMetadata": {},
     "inputWidgets": {},
     "nuid": "12fcc437-324c-4710-a03d-df030851c8da",
     "showTitle": false,
     "tableResultSettingsMap": {},
     "title": ""
    }
   },
   "source": []
  },
  {
   "cell_type": "code",
   "execution_count": 0,
   "metadata": {
    "application/vnd.databricks.v1+cell": {
     "cellMetadata": {},
     "inputWidgets": {},
     "nuid": "c95bdd4e-b0ac-43a6-82c2-6845fb4b515e",
     "showTitle": false,
     "tableResultSettingsMap": {},
     "title": ""
    }
   },
   "outputs": [],
   "source": []
  },
  {
   "cell_type": "code",
   "execution_count": 0,
   "metadata": {
    "application/vnd.databricks.v1+cell": {
     "cellMetadata": {},
     "inputWidgets": {},
     "nuid": "6db26880-0242-4bfc-aa5d-30e413698443",
     "showTitle": false,
     "tableResultSettingsMap": {},
     "title": ""
    }
   },
   "outputs": [],
   "source": []
  }
 ],
 "metadata": {
  "application/vnd.databricks.v1+notebook": {
   "computePreferences": null,
   "dashboards": [],
   "environmentMetadata": {
    "base_environment": "",
    "environment_version": "2"
   },
   "inputWidgetPreferences": null,
   "language": "sql",
   "notebookMetadata": {
    "pythonIndentUnit": 4
   },
   "notebookName": "10. Transform Customer Data",
   "widgets": {}
  },
  "language_info": {
   "name": "sql"
  }
 },
 "nbformat": 4,
 "nbformat_minor": 0
}
