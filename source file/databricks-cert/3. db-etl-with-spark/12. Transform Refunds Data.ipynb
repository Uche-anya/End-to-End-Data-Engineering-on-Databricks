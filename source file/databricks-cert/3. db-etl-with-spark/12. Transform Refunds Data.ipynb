{
 "cells": [
  {
   "cell_type": "markdown",
   "metadata": {
    "application/vnd.databricks.v1+cell": {
     "cellMetadata": {},
     "inputWidgets": {},
     "nuid": "69560b9d-9d69-4dce-892f-91ee165eaec9",
     "showTitle": false,
     "tableResultSettingsMap": {},
     "title": ""
    }
   },
   "source": [
    "## Transform Refunds Data\n",
    "1. Extract specific portion of the string from refund_reason using split function\n",
    "1. Extract specific portion of the string from refund_reason using regexp_extract function\n",
    "1. Extract date and time from the refund_timestamp\n",
    "1. Write transformed data to the Silver schema in hive metastore"
   ]
  },
  {
   "cell_type": "code",
   "execution_count": 0,
   "metadata": {
    "application/vnd.databricks.v1+cell": {
     "cellMetadata": {
      "byteLimit": 2048000,
      "rowLimit": 10000
     },
     "inputWidgets": {},
     "nuid": "f0496b0e-c6b0-45af-92ef-ac6e67e3588a",
     "showTitle": false,
     "tableResultSettingsMap": {},
     "title": ""
    }
   },
   "outputs": [],
   "source": [
    "select refund_id,\n",
    "       payment_id,\n",
    "       refund_timestamp, \n",
    "       refund_amount,\n",
    "       refund_reason\n",
    "  from hive_metastore.bronze.refunds;"
   ]
  },
  {
   "cell_type": "markdown",
   "metadata": {
    "application/vnd.databricks.v1+cell": {
     "cellMetadata": {},
     "inputWidgets": {},
     "nuid": "a705499a-9bbf-4558-84d6-b16aaff340a8",
     "showTitle": false,
     "tableResultSettingsMap": {},
     "title": ""
    }
   },
   "source": [
    "### 1. Extract specific portion of the string from refund_reason using split function"
   ]
  },
  {
   "cell_type": "code",
   "execution_count": 0,
   "metadata": {
    "application/vnd.databricks.v1+cell": {
     "cellMetadata": {
      "byteLimit": 2048000,
      "rowLimit": 10000
     },
     "inputWidgets": {},
     "nuid": "f665202e-2788-4861-84dc-6ef1513f426e",
     "showTitle": false,
     "tableResultSettingsMap": {},
     "title": ""
    }
   },
   "outputs": [],
   "source": [
    "select refund_id,\n",
    "       payment_id,\n",
    "       refund_timestamp, \n",
    "       refund_amount,\n",
    "       split(refund_reason, ':')[0] as refund_reason,\n",
    "       split(refund_reason, ':')[1] as refund_source\n",
    "  from hive_metastore.bronze.refunds;\n"
   ]
  },
  {
   "cell_type": "markdown",
   "metadata": {
    "application/vnd.databricks.v1+cell": {
     "cellMetadata": {},
     "inputWidgets": {},
     "nuid": "55c2e388-1eca-486a-ac3b-c486d686228d",
     "showTitle": false,
     "tableResultSettingsMap": {},
     "title": ""
    }
   },
   "source": [
    "### 2. Extract specific portion of the string from refund_reason using regexp_extract function"
   ]
  },
  {
   "cell_type": "code",
   "execution_count": 0,
   "metadata": {
    "application/vnd.databricks.v1+cell": {
     "cellMetadata": {
      "byteLimit": 2048000,
      "rowLimit": 10000
     },
     "inputWidgets": {},
     "nuid": "d579798b-7709-42f8-a4aa-ff30307efffa",
     "showTitle": false,
     "tableResultSettingsMap": {},
     "title": ""
    }
   },
   "outputs": [],
   "source": [
    "select refund_id,\n",
    "       payment_id,\n",
    "       cast(date_format(refund_timestamp, 'yyyy-MM-dd') as date) as refund_date,\n",
    "       date_format(refund_timestamp, 'hh:mm:ss') as refund_time,\n",
    "       refund_amount,\n",
    "       regexp_extract(refund_reason, '^([^:]+):', 1) as refund_reason,\n",
    "       regexp_extract(refund_reason, '^[^:]+:(.*)$', 1) as refund_source\n",
    "  from hive_metastore.bronze.refunds;\n"
   ]
  },
  {
   "cell_type": "markdown",
   "metadata": {
    "application/vnd.databricks.v1+cell": {
     "cellMetadata": {},
     "inputWidgets": {},
     "nuid": "7571841f-2279-4158-bf23-64ce84120823",
     "showTitle": false,
     "tableResultSettingsMap": {},
     "title": ""
    }
   },
   "source": [
    "### 3. Write transformed data to the Silver schema "
   ]
  },
  {
   "cell_type": "code",
   "execution_count": 0,
   "metadata": {
    "application/vnd.databricks.v1+cell": {
     "cellMetadata": {
      "byteLimit": 2048000,
      "rowLimit": 10000
     },
     "inputWidgets": {},
     "nuid": "fffdf218-78dc-45fe-b35f-cd71bfd770b0",
     "showTitle": false,
     "tableResultSettingsMap": {},
     "title": ""
    }
   },
   "outputs": [],
   "source": [
    "create schema hive_metastore.silver;"
   ]
  },
  {
   "cell_type": "code",
   "execution_count": 0,
   "metadata": {
    "application/vnd.databricks.v1+cell": {
     "cellMetadata": {
      "byteLimit": 2048000,
      "rowLimit": 10000
     },
     "inputWidgets": {},
     "nuid": "dcb7ceb3-0008-48bd-8b59-94514a002fd8",
     "showTitle": false,
     "tableResultSettingsMap": {},
     "title": ""
    }
   },
   "outputs": [],
   "source": [
    "create table hive_metastore.silver.refunds\n",
    "as\n",
    "select refund_id,\n",
    "       payment_id,\n",
    "       cast(date_format(refund_timestamp, 'yyyy-MM-dd') as date) as refund_date,\n",
    "       date_format(refund_timestamp, 'hh:mm:ss') as refund_time,\n",
    "       refund_amount,\n",
    "       regexp_extract(refund_reason, '^([^:]+):', 1) as refund_reason,\n",
    "       regexp_extract(refund_reason, '^[^:]+:(.*)$', 1) as refund_source\n",
    "  from hive_metastore.bronze.refunds;\n"
   ]
  },
  {
   "cell_type": "code",
   "execution_count": 0,
   "metadata": {
    "application/vnd.databricks.v1+cell": {
     "cellMetadata": {
      "byteLimit": 2048000,
      "rowLimit": 10000
     },
     "inputWidgets": {},
     "nuid": "921b9459-16da-4173-9f0a-ed37a4ac9049",
     "showTitle": false,
     "tableResultSettingsMap": {},
     "title": ""
    }
   },
   "outputs": [],
   "source": [
    "select * from hive_metastore.silver.refunds;"
   ]
  },
  {
   "cell_type": "code",
   "execution_count": 0,
   "metadata": {
    "application/vnd.databricks.v1+cell": {
     "cellMetadata": {},
     "inputWidgets": {},
     "nuid": "6d86fee0-4c6b-4dc6-bc2a-0d424469c451",
     "showTitle": false,
     "tableResultSettingsMap": {},
     "title": ""
    }
   },
   "outputs": [],
   "source": []
  }
 ],
 "metadata": {
  "application/vnd.databricks.v1+notebook": {
   "computePreferences": null,
   "dashboards": [],
   "environmentMetadata": {
    "base_environment": "",
    "environment_version": "2"
   },
   "inputWidgetPreferences": null,
   "language": "sql",
   "notebookMetadata": {
    "pythonIndentUnit": 4
   },
   "notebookName": "12. Transform Refunds Data",
   "widgets": {}
  },
  "language_info": {
   "name": "sql"
  }
 },
 "nbformat": 4,
 "nbformat_minor": 0
}
