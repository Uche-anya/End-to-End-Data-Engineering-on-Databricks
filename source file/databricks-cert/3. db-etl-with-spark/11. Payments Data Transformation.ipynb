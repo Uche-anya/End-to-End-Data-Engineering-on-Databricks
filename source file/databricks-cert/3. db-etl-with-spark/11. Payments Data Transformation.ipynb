{
 "cells": [
  {
   "cell_type": "markdown",
   "metadata": {
    "application/vnd.databricks.v1+cell": {
     "cellMetadata": {},
     "inputWidgets": {},
     "nuid": "bc3e7903-9946-4f73-a5ed-de293621d401",
     "showTitle": false,
     "tableResultSettingsMap": {},
     "title": ""
    }
   },
   "source": [
    "%md\n",
    "## Transform Payments Data\n",
    "1. Extract Date and Time from payment_timestamp and create new columns payment_date and payment_time\n",
    "1. Map payment_status to contain descriptive values  \n",
    "   (1-Success, 2-Pending, 3-Cancelled, 4-Failed)\n",
    "1. Write transformed data to the Silver schema "
   ]
  },
  {
   "cell_type": "code",
   "execution_count": 0,
   "metadata": {
    "application/vnd.databricks.v1+cell": {
     "cellMetadata": {
      "byteLimit": 2048000,
      "rowLimit": 10000
     },
     "inputWidgets": {},
     "nuid": "cbb9c364-043d-4af0-aa30-3280118fdbea",
     "showTitle": false,
     "tableResultSettingsMap": {},
     "title": ""
    }
   },
   "outputs": [],
   "source": [
    "select payment_id,\n",
    "       order_id,\n",
    "       payment_timestamp,\n",
    "       payment_status,\n",
    "       payment_method\n",
    "  from gizmobox.bronze.payments;"
   ]
  },
  {
   "cell_type": "markdown",
   "metadata": {
    "application/vnd.databricks.v1+cell": {
     "cellMetadata": {},
     "inputWidgets": {},
     "nuid": "d7f4dcfb-1265-4dc7-bbeb-15cb65b65b42",
     "showTitle": false,
     "tableResultSettingsMap": {},
     "title": ""
    }
   },
   "source": [
    "### 1. Extract Date and Time from payment_timestamp"
   ]
  },
  {
   "cell_type": "code",
   "execution_count": 0,
   "metadata": {
    "application/vnd.databricks.v1+cell": {
     "cellMetadata": {
      "byteLimit": 2048000,
      "rowLimit": 10000
     },
     "inputWidgets": {},
     "nuid": "6c858ab6-2da5-4f83-8fa5-09ac9a926b81",
     "showTitle": false,
     "tableResultSettingsMap": {},
     "title": ""
    }
   },
   "outputs": [],
   "source": [
    "select payment_id,\n",
    "       order_id,\n",
    "       cast(date_format(payment_timestamp,'yyyy-MM-dd') AS DATE) AS payment_date,\n",
    "       date_format(payment_timestamp,'HH:mm:ss') AS payment_time,\n",
    "       payment_status,\n",
    "       payment_method\n",
    "  from  gizmobox.bronze.payments;"
   ]
  },
  {
   "cell_type": "markdown",
   "metadata": {
    "application/vnd.databricks.v1+cell": {
     "cellMetadata": {},
     "inputWidgets": {},
     "nuid": "c9390eb9-e08d-4d64-9079-5388751090a1",
     "showTitle": false,
     "tableResultSettingsMap": {},
     "title": ""
    }
   },
   "source": [
    "### 2. Map payment_status to contain descriptive values  \n",
    "   (1-Success, 2-Pending, 3-Cancelled, 4-Failed)"
   ]
  },
  {
   "cell_type": "code",
   "execution_count": 0,
   "metadata": {
    "application/vnd.databricks.v1+cell": {
     "cellMetadata": {
      "byteLimit": 2048000,
      "rowLimit": 10000
     },
     "inputWidgets": {},
     "nuid": "ab99f4e2-bac2-459c-9834-04073dbcd402",
     "showTitle": false,
     "tableResultSettingsMap": {},
     "title": ""
    }
   },
   "outputs": [],
   "source": [
    "select payment_id,\n",
    "       order_id,\n",
    "       cast(date_format(payment_timestamp,'yyyy-MM-dd') AS date) AS payment_date,\n",
    "       date_format(payment_timestamp,'HH:mm:ss') AS payment_time,\n",
    "       case payment_status\n",
    "         when 1 then 'Success'\n",
    "         when 2 then 'Pending'\n",
    "         when 3 then 'Cancelled'\n",
    "         when 4 then 'Failed'\n",
    "       end as payment_status,  \n",
    "       payment_method\n",
    "  from gizmobox.bronze.payments;"
   ]
  },
  {
   "cell_type": "markdown",
   "metadata": {
    "application/vnd.databricks.v1+cell": {
     "cellMetadata": {},
     "inputWidgets": {},
     "nuid": "51d23db3-1e43-4a07-a8d6-695258023764",
     "showTitle": false,
     "tableResultSettingsMap": {},
     "title": ""
    }
   },
   "source": [
    "### 3. Write transformed data to the Silver schema "
   ]
  },
  {
   "cell_type": "code",
   "execution_count": 0,
   "metadata": {
    "application/vnd.databricks.v1+cell": {
     "cellMetadata": {
      "byteLimit": 2048000,
      "rowLimit": 10000
     },
     "inputWidgets": {},
     "nuid": "a8255f67-4b72-40bd-8483-0f2f2834f176",
     "showTitle": false,
     "tableResultSettingsMap": {},
     "title": ""
    }
   },
   "outputs": [],
   "source": [
    "create table gizmobox.silver.payments\n",
    "as\n",
    "select payment_id,\n",
    "       order_id,\n",
    "       cast(date_format(payment_timestamp,'yyyy-MM-dd') as date) as payment_date,\n",
    "       date_format(payment_timestamp,'hh:mm:ss') as payment_time,\n",
    "       case payment_status\n",
    "         when 1 then 'success'\n",
    "         when 2 then 'pending'\n",
    "         when 3 then 'cancelled'\n",
    "         when 4 then 'failed'\n",
    "       end as payment_status,  \n",
    "       payment_method\n",
    "  from gizmobox.bronze.payments;\n"
   ]
  },
  {
   "cell_type": "code",
   "execution_count": 0,
   "metadata": {
    "application/vnd.databricks.v1+cell": {
     "cellMetadata": {
      "byteLimit": 2048000,
      "rowLimit": 10000
     },
     "inputWidgets": {},
     "nuid": "626ea086-d8ee-43f4-a128-f70760e1c9ae",
     "showTitle": false,
     "tableResultSettingsMap": {},
     "title": ""
    }
   },
   "outputs": [],
   "source": [
    "select * from gizmobox.silver.payments;"
   ]
  },
  {
   "cell_type": "code",
   "execution_count": 0,
   "metadata": {
    "application/vnd.databricks.v1+cell": {
     "cellMetadata": {},
     "inputWidgets": {},
     "nuid": "af5607ae-2465-4747-b4ce-c1b4d73d6258",
     "showTitle": false,
     "tableResultSettingsMap": {},
     "title": ""
    }
   },
   "outputs": [],
   "source": []
  }
 ],
 "metadata": {
  "application/vnd.databricks.v1+notebook": {
   "computePreferences": null,
   "dashboards": [],
   "environmentMetadata": {
    "base_environment": "",
    "environment_version": "2"
   },
   "inputWidgetPreferences": null,
   "language": "sql",
   "notebookMetadata": {},
   "notebookName": "11. Payments Data Transformation",
   "widgets": {}
  },
  "language_info": {
   "name": "sql"
  }
 },
 "nbformat": 4,
 "nbformat_minor": 0
}
