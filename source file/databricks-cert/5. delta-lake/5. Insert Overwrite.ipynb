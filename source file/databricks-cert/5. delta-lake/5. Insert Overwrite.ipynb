{
 "cells": [
  {
   "cell_type": "markdown",
   "metadata": {
    "application/vnd.databricks.v1+cell": {
     "cellMetadata": {},
     "inputWidgets": {},
     "nuid": "9ee9ce21-2c58-47f2-8111-68593c0cb90a",
     "showTitle": false,
     "tableResultSettingsMap": {},
     "title": ""
    }
   },
   "source": [
    "## Insert Overwrite\n",
    "1. Replace all the data in a table\n",
    "1. Replace all the data from a specific partition\n",
    "1. How to handle schema changes"
   ]
  },
  {
   "cell_type": "markdown",
   "metadata": {
    "application/vnd.databricks.v1+cell": {
     "cellMetadata": {},
     "inputWidgets": {},
     "nuid": "14e70b44-31ed-4ff6-b277-be6ded63f306",
     "showTitle": false,
     "tableResultSettingsMap": {},
     "title": ""
    }
   },
   "source": [
    "INSERT OVERWITE - Overwrites the existing data in a table or a specific partition with the new data. \n",
    "\n",
    "INSERT INTO - Appends new data"
   ]
  },
  {
   "cell_type": "markdown",
   "metadata": {
    "application/vnd.databricks.v1+cell": {
     "cellMetadata": {},
     "inputWidgets": {},
     "nuid": "40f5a948-710c-400d-840c-1bf198a6e890",
     "showTitle": false,
     "tableResultSettingsMap": {},
     "title": ""
    }
   },
   "source": [
    "### 1. Replace all the data in a table"
   ]
  },
  {
   "cell_type": "code",
   "execution_count": 0,
   "metadata": {
    "application/vnd.databricks.v1+cell": {
     "cellMetadata": {
      "byteLimit": 2048000,
      "rowLimit": 10000
     },
     "inputWidgets": {},
     "nuid": "a4aa1ef1-6e2d-4de9-8c3f-739adefdd48e",
     "showTitle": false,
     "tableResultSettingsMap": {},
     "title": ""
    }
   },
   "outputs": [],
   "source": [
    "DROP TABLE IF EXISTS demo.delta_lake.gold_companies;\n",
    "\n",
    "CREATE TABLE demo.delta_lake.gold_companies\n",
    "  (company_name STRING,\n",
    "   founded_date DATE,\n",
    "   country      STRING);\n",
    "\n",
    "INSERT INTO demo.delta_lake.gold_companies \n",
    "(company_name, founded_date, country)\n",
    "VALUES (\"Apple\", \"1976-04-01\", \"USA\"),  \n",
    "       (\"Tencent\", \"1998-11-11\", \"China\"); \n",
    "\n",
    "SELECT * FROM demo.delta_lake.gold_companies;        "
   ]
  },
  {
   "cell_type": "code",
   "execution_count": 0,
   "metadata": {
    "application/vnd.databricks.v1+cell": {
     "cellMetadata": {
      "byteLimit": 2048000,
      "rowLimit": 10000
     },
     "inputWidgets": {},
     "nuid": "a53500fb-8c73-42bc-923e-a39bd8251b9c",
     "showTitle": false,
     "tableResultSettingsMap": {},
     "title": ""
    }
   },
   "outputs": [],
   "source": [
    "DROP TABLE IF EXISTS demo.delta_lake.bronze_companies;\n",
    "\n",
    "CREATE TABLE demo.delta_lake.bronze_companies\n",
    "  (company_name STRING,\n",
    "   founded_date DATE,\n",
    "   country      STRING);\n",
    "\n",
    "INSERT INTO demo.delta_lake.bronze_companies \n",
    "(company_name, founded_date, country)\n",
    "VALUES (\"Apple\", \"1976-04-01\", \"USA\"),\n",
    "       (\"Microsoft\", \"1975-04-04\", \"USA\"),\n",
    "       (\"Google\", \"1998-09-04\", \"USA\"),\n",
    "       (\"Amazon\", \"1994-07-05\", \"USA\"),\n",
    "       (\"Tencent\", \"1998-11-11\", \"China\");   \n",
    "\n",
    "SELECT * FROM demo.delta_lake.bronze_companies;       "
   ]
  },
  {
   "cell_type": "code",
   "execution_count": 0,
   "metadata": {
    "application/vnd.databricks.v1+cell": {
     "cellMetadata": {
      "byteLimit": 2048000,
      "rowLimit": 10000
     },
     "inputWidgets": {},
     "nuid": "b18a5494-8ca0-4896-a5a5-fcd41140f11b",
     "showTitle": false,
     "tableResultSettingsMap": {},
     "title": ""
    }
   },
   "outputs": [],
   "source": [
    "INSERT OVERWRITE TABLE demo.delta_lake.gold_companies\n",
    "SELECT *\n",
    "  FROM demo.delta_lake.bronze_companies;"
   ]
  },
  {
   "cell_type": "code",
   "execution_count": 0,
   "metadata": {
    "application/vnd.databricks.v1+cell": {
     "cellMetadata": {
      "byteLimit": 2048000,
      "rowLimit": 10000
     },
     "inputWidgets": {},
     "nuid": "808b03d8-87e6-4188-b7aa-9c8556c0eb8a",
     "showTitle": false,
     "tableResultSettingsMap": {},
     "title": ""
    }
   },
   "outputs": [],
   "source": [
    "SELECT * FROM demo.delta_lake.gold_companies;"
   ]
  },
  {
   "cell_type": "code",
   "execution_count": 0,
   "metadata": {
    "application/vnd.databricks.v1+cell": {
     "cellMetadata": {
      "byteLimit": 2048000,
      "rowLimit": 10000
     },
     "inputWidgets": {},
     "nuid": "8dd993d1-7200-4043-a0cf-4b3ced59c240",
     "showTitle": false,
     "tableResultSettingsMap": {},
     "title": ""
    }
   },
   "outputs": [],
   "source": [
    "DESC HISTORY demo.delta_lake.gold_companies;"
   ]
  },
  {
   "cell_type": "markdown",
   "metadata": {
    "application/vnd.databricks.v1+cell": {
     "cellMetadata": {},
     "inputWidgets": {},
     "nuid": "f31c8d33-1fa8-48b1-beb4-0b238813119f",
     "showTitle": false,
     "tableResultSettingsMap": {},
     "title": ""
    }
   },
   "source": [
    "### 2. Replace all the data from a specific partition"
   ]
  },
  {
   "cell_type": "code",
   "execution_count": 0,
   "metadata": {
    "application/vnd.databricks.v1+cell": {
     "cellMetadata": {
      "byteLimit": 2048000,
      "rowLimit": 10000
     },
     "inputWidgets": {},
     "nuid": "cb578032-6202-490b-adc6-59c0a79e6276",
     "showTitle": false,
     "tableResultSettingsMap": {},
     "title": ""
    }
   },
   "outputs": [],
   "source": [
    "DROP TABLE IF EXISTS demo.delta_lake.gold_companies_partitioned;\n",
    "\n",
    "CREATE TABLE demo.delta_lake.gold_companies_partitioned\n",
    "  (company_name STRING,\n",
    "   founded_date DATE,\n",
    "   country      STRING)\n",
    "PARTITIONED BY (country);\n",
    "\n",
    "INSERT INTO demo.delta_lake.gold_companies_partitioned \n",
    "(company_name, founded_date, country)\n",
    "VALUES (\"Apple\", \"1976-04-01\", \"USA\"),  \n",
    "       (\"Tencent\", \"1998-11-11\", \"China\"); \n",
    "\n",
    "SELECT * FROM demo.delta_lake.gold_companies_partitioned;        "
   ]
  },
  {
   "cell_type": "code",
   "execution_count": 0,
   "metadata": {
    "application/vnd.databricks.v1+cell": {
     "cellMetadata": {
      "byteLimit": 2048000,
      "rowLimit": 10000
     },
     "inputWidgets": {},
     "nuid": "68c57ddb-a927-495b-ba45-ebc13446bcfd",
     "showTitle": false,
     "tableResultSettingsMap": {},
     "title": ""
    }
   },
   "outputs": [],
   "source": [
    "DESC EXTENDED demo.delta_lake.gold_companies_partitioned"
   ]
  },
  {
   "cell_type": "code",
   "execution_count": 0,
   "metadata": {
    "application/vnd.databricks.v1+cell": {
     "cellMetadata": {
      "byteLimit": 2048000,
      "rowLimit": 10000
     },
     "inputWidgets": {},
     "nuid": "b189381e-84e3-438f-b8dc-967654a3d9cd",
     "showTitle": false,
     "tableResultSettingsMap": {},
     "title": ""
    }
   },
   "outputs": [],
   "source": [
    "DROP TABLE IF EXISTS demo.delta_lake.bronze_companies_usa;\n",
    "\n",
    "CREATE TABLE demo.delta_lake.bronze_companies_usa\n",
    "  (company_name STRING,\n",
    "   founded_date DATE,\n",
    "   country      STRING);\n",
    "\n",
    "INSERT INTO demo.delta_lake.bronze_companies_usa \n",
    "(company_name, founded_date, country)\n",
    "VALUES (\"Apple\", \"1976-04-01\", \"USA\"),\n",
    "       (\"Microsoft\", \"1975-04-04\", \"USA\"),\n",
    "       (\"Google\", \"1998-09-04\", \"USA\"),\n",
    "       (\"Amazon\", \"1994-07-05\", \"USA\");   \n",
    "\n",
    "SELECT * FROM demo.delta_lake.bronze_companies_usa; "
   ]
  },
  {
   "cell_type": "code",
   "execution_count": 0,
   "metadata": {
    "application/vnd.databricks.v1+cell": {
     "cellMetadata": {
      "byteLimit": 2048000,
      "rowLimit": 10000
     },
     "inputWidgets": {},
     "nuid": "5dacbb04-12cc-47fb-bf89-2deb057995e4",
     "showTitle": false,
     "tableResultSettingsMap": {},
     "title": ""
    }
   },
   "outputs": [],
   "source": [
    "INSERT OVERWRITE TABLE demo.delta_lake.gold_companies_partitioned\n",
    "PARTITION (country = \"USA\")\n",
    "SELECT company_name,\n",
    "       founded_date\n",
    "  FROM demo.delta_lake.bronze_companies_usa;    "
   ]
  },
  {
   "cell_type": "code",
   "execution_count": 0,
   "metadata": {
    "application/vnd.databricks.v1+cell": {
     "cellMetadata": {
      "byteLimit": 2048000,
      "rowLimit": 10000
     },
     "inputWidgets": {},
     "nuid": "f9428401-c3c8-4fa5-9725-b27d4c40e568",
     "showTitle": false,
     "tableResultSettingsMap": {},
     "title": ""
    }
   },
   "outputs": [],
   "source": [
    "SELECT * FROM demo.delta_lake.gold_companies_partitioned;"
   ]
  },
  {
   "cell_type": "markdown",
   "metadata": {
    "application/vnd.databricks.v1+cell": {
     "cellMetadata": {},
     "inputWidgets": {},
     "nuid": "865238ac-e085-4c3b-9fa2-777eb8ef3bc9",
     "showTitle": false,
     "tableResultSettingsMap": {},
     "title": ""
    }
   },
   "source": [
    "### 3. How to handle schema changes"
   ]
  },
  {
   "cell_type": "markdown",
   "metadata": {
    "application/vnd.databricks.v1+cell": {
     "cellMetadata": {},
     "inputWidgets": {},
     "nuid": "0148e6d2-a9b3-4bb9-a035-20c0a3699d5b",
     "showTitle": false,
     "tableResultSettingsMap": {},
     "title": ""
    }
   },
   "source": [
    "Insert Overwrite -> Use to overwrite the data in a table or a partition when there are no schema changes.  \n",
    "Create or replace table -> Use when there are schema changes. "
   ]
  },
  {
   "cell_type": "code",
   "execution_count": 0,
   "metadata": {
    "application/vnd.databricks.v1+cell": {
     "cellMetadata": {},
     "inputWidgets": {},
     "nuid": "77d8db97-0602-4f39-a0cb-4c8d73a978f0",
     "showTitle": false,
     "tableResultSettingsMap": {},
     "title": ""
    }
   },
   "outputs": [],
   "source": []
  },
  {
   "cell_type": "code",
   "execution_count": 0,
   "metadata": {
    "application/vnd.databricks.v1+cell": {
     "cellMetadata": {},
     "inputWidgets": {},
     "nuid": "235488df-1514-4301-8163-e92984d3a364",
     "showTitle": false,
     "tableResultSettingsMap": {},
     "title": ""
    }
   },
   "outputs": [],
   "source": []
  }
 ],
 "metadata": {
  "application/vnd.databricks.v1+notebook": {
   "computePreferences": null,
   "dashboards": [],
   "environmentMetadata": {
    "base_environment": "",
    "environment_version": "2"
   },
   "inputWidgetPreferences": null,
   "language": "sql",
   "notebookMetadata": {},
   "notebookName": "5. Insert Overwrite",
   "widgets": {}
  },
  "language_info": {
   "name": "sql"
  }
 },
 "nbformat": 4,
 "nbformat_minor": 0
}
