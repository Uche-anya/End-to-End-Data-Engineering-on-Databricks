{
 "cells": [
  {
   "cell_type": "markdown",
   "metadata": {
    "application/vnd.databricks.v1+cell": {
     "cellMetadata": {},
     "inputWidgets": {},
     "nuid": "b552f1fe-0eab-4a47-afae-865c731315f4",
     "showTitle": false,
     "tableResultSettingsMap": {},
     "title": ""
    }
   },
   "source": [
    "## Create Table - Table & Column Properties\n",
    "Demonstrate adding Table and Column Properties to the CREATE TABLE statement. "
   ]
  },
  {
   "cell_type": "markdown",
   "metadata": {
    "application/vnd.databricks.v1+cell": {
     "cellMetadata": {},
     "inputWidgets": {},
     "nuid": "0fe82ece-441f-41bc-b966-f1f91d784e0e",
     "showTitle": false,
     "tableResultSettingsMap": {},
     "title": ""
    }
   },
   "source": [
    "### 1. Table Properties\n",
    "      1.1. COMMENT - allows you to document the purpose of the table. \n",
    "      1.2. TBLPROPERTIES - used to specify table level metadata or configuration settings\n"
   ]
  },
  {
   "cell_type": "code",
   "execution_count": 0,
   "metadata": {
    "application/vnd.databricks.v1+cell": {
     "cellMetadata": {
      "byteLimit": 2048000,
      "rowLimit": 10000
     },
     "inputWidgets": {},
     "nuid": "7c56a13b-8005-484e-84be-d361789f2bf4",
     "showTitle": false,
     "tableResultSettingsMap": {},
     "title": ""
    }
   },
   "outputs": [],
   "source": [
    "DROP TABLE IF EXISTS demo.delta_lake.companies;\n",
    "CREATE TABLE demo.delta_lake.companies\n",
    "  (company_name STRING,\n",
    "   founded_date DATE,\n",
    "   country      STRING)\n",
    "COMMENT 'This table contains information about some of the successful tech companies'   \n",
    "TBLPROPERTIES ('sensitive' = 'true', 'delta.enableDeletionVectors' = 'false');"
   ]
  },
  {
   "cell_type": "code",
   "execution_count": 0,
   "metadata": {
    "application/vnd.databricks.v1+cell": {
     "cellMetadata": {
      "byteLimit": 2048000,
      "rowLimit": 10000
     },
     "inputWidgets": {},
     "nuid": "b1f9a0fc-9b42-427d-999f-4a74d01fb49d",
     "showTitle": false,
     "tableResultSettingsMap": {},
     "title": ""
    }
   },
   "outputs": [],
   "source": [
    "DESC EXTENDED demo.delta_lake.companies;"
   ]
  },
  {
   "cell_type": "markdown",
   "metadata": {
    "application/vnd.databricks.v1+cell": {
     "cellMetadata": {},
     "inputWidgets": {},
     "nuid": "04a954f3-2fc1-4dd4-bde2-4af7be2edc2c",
     "showTitle": false,
     "tableResultSettingsMap": {},
     "title": ""
    }
   },
   "source": [
    "### 2. Column Properties\n",
    "      2.1 NOT NULL Constraints - enforces data integrity and quality by ensuring that a specific column cannot contain NULL values\n",
    "      2.2 COMMENT - documents the purpose or context of individual columns in a table"
   ]
  },
  {
   "cell_type": "code",
   "execution_count": 0,
   "metadata": {
    "application/vnd.databricks.v1+cell": {
     "cellMetadata": {
      "byteLimit": 2048000,
      "rowLimit": 10000
     },
     "inputWidgets": {},
     "nuid": "f79262e6-ed96-425e-8a23-999558a2bcbe",
     "showTitle": false,
     "tableResultSettingsMap": {},
     "title": ""
    }
   },
   "outputs": [],
   "source": [
    "DROP TABLE IF EXISTS demo.delta_lake.companies;\n",
    "CREATE TABLE demo.delta_lake.companies\n",
    "  (company_name STRING NOT NULL,\n",
    "   founded_date DATE COMMENT 'The date the company was founded',\n",
    "   country      STRING)\n",
    "COMMENT 'This table contains information about some of the successful tech companies'   \n",
    "TBLPROPERTIES ('sensitive' = 'true', 'delta.enableDeletionVectors' = 'false');"
   ]
  },
  {
   "cell_type": "code",
   "execution_count": 0,
   "metadata": {
    "application/vnd.databricks.v1+cell": {
     "cellMetadata": {
      "byteLimit": 2048000,
      "rowLimit": 10000
     },
     "inputWidgets": {},
     "nuid": "b719db44-2583-4627-827f-12799a3ac17c",
     "showTitle": false,
     "tableResultSettingsMap": {},
     "title": ""
    }
   },
   "outputs": [],
   "source": [
    "DESC EXTENDED demo.delta_lake.companies;"
   ]
  },
  {
   "cell_type": "markdown",
   "metadata": {
    "application/vnd.databricks.v1+cell": {
     "cellMetadata": {},
     "inputWidgets": {},
     "nuid": "023e2411-e451-49f0-8ea8-e31f7abb0413",
     "showTitle": false,
     "tableResultSettingsMap": {},
     "title": ""
    }
   },
   "source": [
    "### 2. Column Properties\n",
    "      2.3 Generated Columns - derived or computed columns, whose values are computed at the time of inserting a new records\n",
    "          2.3.1. Generated Identity Columns - used to generate an identity for example a primary key value\n",
    "          2.3.2. Generated Computed Columns - automatically calculate and store derived values based on other columns in the same table."
   ]
  },
  {
   "cell_type": "code",
   "execution_count": 0,
   "metadata": {
    "application/vnd.databricks.v1+cell": {
     "cellMetadata": {
      "byteLimit": 2048000,
      "rowLimit": 10000
     },
     "inputWidgets": {},
     "nuid": "341d81eb-d552-427b-bb31-34d35c9368c9",
     "showTitle": false,
     "tableResultSettingsMap": {},
     "title": ""
    }
   },
   "outputs": [],
   "source": [
    "DROP TABLE IF EXISTS demo.delta_lake.companies;\n",
    "CREATE TABLE demo.delta_lake.companies\n",
    "  (company_id BIGINT NOT NULL GENERATED ALWAYS AS IDENTITY (START WITH 1 INCREMENT BY 1),\n",
    "   company_name STRING NOT NULL,\n",
    "   founded_date DATE COMMENT 'The date the company was founded',\n",
    "   country      STRING)\n",
    "COMMENT 'This table contains information about some of the successful tech companies'   \n",
    "TBLPROPERTIES ('sensitive' = 'true', 'delta.enableDeletionVectors' = 'false');"
   ]
  },
  {
   "cell_type": "code",
   "execution_count": 0,
   "metadata": {
    "application/vnd.databricks.v1+cell": {
     "cellMetadata": {
      "byteLimit": 2048000,
      "rowLimit": 10000
     },
     "inputWidgets": {},
     "nuid": "42ed3ef5-d750-47cc-b1c1-41331d5fe674",
     "showTitle": false,
     "tableResultSettingsMap": {},
     "title": ""
    }
   },
   "outputs": [],
   "source": [
    "INSERT INTO demo.delta_lake.companies \n",
    "(company_name, founded_date, country)\n",
    "VALUES (\"Apple\", \"1976-04-01\", \"USA\"),\n",
    "       (\"Microsoft\", \"1975-04-04\", \"USA\"),\n",
    "       (\"Google\", \"1998-09-04\", \"USA\"),\n",
    "       (\"Amazon\", \"1994-07-05\", \"USA\");"
   ]
  },
  {
   "cell_type": "code",
   "execution_count": 0,
   "metadata": {
    "application/vnd.databricks.v1+cell": {
     "cellMetadata": {
      "byteLimit": 2048000,
      "rowLimit": 10000
     },
     "inputWidgets": {},
     "nuid": "460e881d-7b0a-4ced-ba97-ba0f04f4b355",
     "showTitle": false,
     "tableResultSettingsMap": {},
     "title": ""
    }
   },
   "outputs": [],
   "source": [
    "SELECT * FROM demo.delta_lake.companies ;"
   ]
  },
  {
   "cell_type": "markdown",
   "metadata": {
    "application/vnd.databricks.v1+cell": {
     "cellMetadata": {},
     "inputWidgets": {},
     "nuid": "86d9eb8c-1de5-4d35-898c-98ff7b26357b",
     "showTitle": false,
     "tableResultSettingsMap": {},
     "title": ""
    }
   },
   "source": [
    "%md\n",
    "#### 2.3.2. Generated Computed Columns\n",
    "GENERATED ALWAYS AS ( `expr` )\n",
    "\n",
    "`expr` may be composed of literals, column identifiers within the table, and deterministic, built-in SQL functions or operators except:\n",
    "- Aggregate functions\n",
    "- Analytic window functions\n",
    "- Ranking window functions\n",
    "- Table valued generator functions\n",
    "\n",
    "Also `expr` must not contain any subquery."
   ]
  },
  {
   "cell_type": "code",
   "execution_count": 0,
   "metadata": {
    "application/vnd.databricks.v1+cell": {
     "cellMetadata": {
      "byteLimit": 2048000,
      "rowLimit": 10000
     },
     "inputWidgets": {},
     "nuid": "ee33cb6f-1639-4fb5-b182-68e2f65ec2a9",
     "showTitle": false,
     "tableResultSettingsMap": {},
     "title": ""
    }
   },
   "outputs": [],
   "source": [
    "DROP TABLE IF EXISTS demo.delta_lake.companies;\n",
    "CREATE TABLE demo.delta_lake.companies\n",
    "  (company_id BIGINT NOT NULL GENERATED ALWAYS AS IDENTITY (START WITH 1 INCREMENT BY 1),\n",
    "   company_name STRING NOT NULL,\n",
    "   founded_date DATE COMMENT 'The date the company was founded',\n",
    "   founded_year INT GENERATED ALWAYS AS (YEAR(founded_date)),\n",
    "   country      STRING)\n",
    "COMMENT 'This table contains information about some of the successful tech companies'   \n",
    "TBLPROPERTIES ('sensitive' = 'true', 'delta.enableDeletionVectors' = 'false');"
   ]
  },
  {
   "cell_type": "code",
   "execution_count": 0,
   "metadata": {
    "application/vnd.databricks.v1+cell": {
     "cellMetadata": {
      "byteLimit": 2048000,
      "rowLimit": 10000
     },
     "inputWidgets": {},
     "nuid": "4189251d-bd4a-483a-b8c5-8dcdea8138ff",
     "showTitle": false,
     "tableResultSettingsMap": {},
     "title": ""
    }
   },
   "outputs": [],
   "source": [
    "INSERT INTO demo.delta_lake.companies \n",
    "(company_name, founded_date, country)\n",
    "VALUES (\"Apple\", \"1976-04-01\", \"USA\"),\n",
    "       (\"Microsoft\", \"1975-04-04\", \"USA\"),\n",
    "       (\"Google\", \"1998-09-04\", \"USA\"),\n",
    "       (\"Amazon\", \"1994-07-05\", \"USA\");"
   ]
  },
  {
   "cell_type": "code",
   "execution_count": 0,
   "metadata": {
    "application/vnd.databricks.v1+cell": {
     "cellMetadata": {
      "byteLimit": 2048000,
      "rowLimit": 10000
     },
     "inputWidgets": {},
     "nuid": "8591637d-f5ea-4917-81b9-b06946935636",
     "showTitle": false,
     "tableResultSettingsMap": {},
     "title": ""
    }
   },
   "outputs": [],
   "source": [
    "SELECT * FROM demo.delta_lake.companies;"
   ]
  },
  {
   "cell_type": "code",
   "execution_count": 0,
   "metadata": {
    "application/vnd.databricks.v1+cell": {
     "cellMetadata": {},
     "inputWidgets": {},
     "nuid": "13656a23-a2da-4cef-b993-3b4da11593ca",
     "showTitle": false,
     "tableResultSettingsMap": {},
     "title": ""
    }
   },
   "outputs": [],
   "source": []
  },
  {
   "cell_type": "code",
   "execution_count": 0,
   "metadata": {
    "application/vnd.databricks.v1+cell": {
     "cellMetadata": {},
     "inputWidgets": {},
     "nuid": "44548324-8d93-4c8a-a858-42af7333f428",
     "showTitle": false,
     "tableResultSettingsMap": {},
     "title": ""
    }
   },
   "outputs": [],
   "source": []
  }
 ],
 "metadata": {
  "application/vnd.databricks.v1+notebook": {
   "computePreferences": null,
   "dashboards": [],
   "environmentMetadata": {
    "base_environment": "",
    "environment_version": "2"
   },
   "inputWidgetPreferences": null,
   "language": "sql",
   "notebookMetadata": {},
   "notebookName": "3. Create Table & Column Properties",
   "widgets": {}
  },
  "language_info": {
   "name": "sql"
  }
 },
 "nbformat": 4,
 "nbformat_minor": 0
}
