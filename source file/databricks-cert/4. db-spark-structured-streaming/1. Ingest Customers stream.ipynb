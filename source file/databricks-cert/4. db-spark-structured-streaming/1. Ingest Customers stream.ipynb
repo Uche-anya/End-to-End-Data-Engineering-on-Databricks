{
 "cells": [
  {
   "cell_type": "markdown",
   "metadata": {
    "application/vnd.databricks.v1+cell": {
     "cellMetadata": {},
     "inputWidgets": {},
     "nuid": "b729dfc6-8784-4400-a034-24a95a5f959a",
     "showTitle": false,
     "tableResultSettingsMap": {},
     "title": ""
    }
   },
   "source": [
    "## Stream Customers Data From Cloud Files to Delta Lake\n",
    "1. Read files from cloud storage using DataStreamReader API\n",
    "1. Transform the dataframe to add the following columns\n",
    "    -   file path: Cloud file path\n",
    "    -   ingestion date: Current Timestamp\n",
    "1. Write the transformed data stream to Delta Lake Table"
   ]
  },
  {
   "cell_type": "markdown",
   "metadata": {
    "application/vnd.databricks.v1+cell": {
     "cellMetadata": {},
     "inputWidgets": {},
     "nuid": "15623944-076a-4836-8d70-146a2a588270",
     "showTitle": false,
     "tableResultSettingsMap": {},
     "title": ""
    }
   },
   "source": [
    "### 1. Read files using DataStreamReader API"
   ]
  },
  {
   "cell_type": "code",
   "execution_count": 0,
   "metadata": {
    "application/vnd.databricks.v1+cell": {
     "cellMetadata": {
      "byteLimit": 2048000,
      "rowLimit": 10000
     },
     "inputWidgets": {},
     "nuid": "10765684-9d35-4a61-aa40-08a0018c220e",
     "showTitle": true,
     "tableResultSettingsMap": {},
     "title": "l"
    }
   },
   "outputs": [],
   "source": [
    "%python\n",
    "from pyspark.sql.types import StructType, StructField, IntegerType, StringType, DateType, TimestampType\n",
    "\n",
    "customers_schema = StructType(fields=[StructField(\"customer_id\", IntegerType()),\n",
    "                                     StructField(\"customer_name\", StringType()),\n",
    "                                     StructField(\"date_of_birth\", DateType()),\n",
    "                                     StructField(\"telephone\", StringType()),\n",
    "                                     StructField(\"email\", StringType()),\n",
    "                                     StructField(\"member_since\", DateType()),\n",
    "                                     StructField(\"created_timestamp\", TimestampType())\n",
    "                                    ]\n",
    "                              )"
   ]
  },
  {
   "cell_type": "code",
   "execution_count": 0,
   "metadata": {
    "application/vnd.databricks.v1+cell": {
     "cellMetadata": {
      "byteLimit": 2048000,
      "rowLimit": 10000
     },
     "inputWidgets": {},
     "nuid": "afa5444a-c542-4735-a53e-720e2e7a1d09",
     "showTitle": false,
     "tableResultSettingsMap": {},
     "title": ""
    }
   },
   "outputs": [],
   "source": [
    "%python\n",
    "customers_df = (\n",
    "                    spark.readStream\n",
    "                         .format(\"json\")\n",
    "                         .schema(customers_schema)\n",
    "                         .load(\"/Volumes/gizmobox/landing/operational_data/customers_stream/\")\n",
    ")"
   ]
  },
  {
   "cell_type": "markdown",
   "metadata": {
    "application/vnd.databricks.v1+cell": {
     "cellMetadata": {},
     "inputWidgets": {},
     "nuid": "8825718c-b528-4544-b91c-3c413c9e58d5",
     "showTitle": false,
     "tableResultSettingsMap": {},
     "title": ""
    }
   },
   "source": [
    "### 2. Transform the dataframe to add the following columns\n",
    "- file path: Cloud file path\n",
    "- ingestion date: Current Timestamp"
   ]
  },
  {
   "cell_type": "code",
   "execution_count": 0,
   "metadata": {
    "application/vnd.databricks.v1+cell": {
     "cellMetadata": {
      "byteLimit": 2048000,
      "rowLimit": 10000
     },
     "inputWidgets": {},
     "nuid": "9668a13c-55f8-414e-b3aa-c301a1ad9512",
     "showTitle": false,
     "tableResultSettingsMap": {},
     "title": ""
    }
   },
   "outputs": [],
   "source": [
    "%python\n",
    "from pyspark.sql.functions import current_timestamp, col\n",
    "\n",
    "customers_transformed_df = (\n",
    "                                customers_df.withColumn(\"file_path\", col(\"_metadata.file_path\"))\n",
    "                                            .withColumn(\"ingestion_date\", current_timestamp())\n",
    ")"
   ]
  },
  {
   "cell_type": "markdown",
   "metadata": {
    "application/vnd.databricks.v1+cell": {
     "cellMetadata": {},
     "inputWidgets": {},
     "nuid": "6308b8a9-c5d7-4a1b-b63a-87c2f3c31a05",
     "showTitle": false,
     "tableResultSettingsMap": {},
     "title": ""
    }
   },
   "source": [
    "### 3. Write the transformed data stream to Delta Table "
   ]
  },
  {
   "cell_type": "code",
   "execution_count": 0,
   "metadata": {
    "application/vnd.databricks.v1+cell": {
     "cellMetadata": {
      "byteLimit": 2048000,
      "rowLimit": 10000
     },
     "inputWidgets": {},
     "nuid": "985e855f-763e-4560-ae13-ffa6d68ce979",
     "showTitle": false,
     "tableResultSettingsMap": {},
     "title": ""
    }
   },
   "outputs": [],
   "source": [
    "%python\n",
    "streaming_query = (\n",
    "                    customers_transformed_df.writeStream\n",
    "                        .format(\"delta\")\n",
    "                        .option(\"checkpointLocation\", \"/Volumes/gizmobox/landing/operational_data/customers_stream/_checkpoint_stream\")\n",
    "                        .toTable(\"gizmobox.bronze.customers_stream\")\n",
    ")"
   ]
  },
  {
   "cell_type": "code",
   "execution_count": 0,
   "metadata": {
    "application/vnd.databricks.v1+cell": {
     "cellMetadata": {
      "byteLimit": 2048000,
      "rowLimit": 10000
     },
     "inputWidgets": {},
     "nuid": "9a216379-9306-452a-8ffe-e7a567f32a38",
     "showTitle": false,
     "tableResultSettingsMap": {},
     "title": ""
    }
   },
   "outputs": [],
   "source": [
    "select * from gizmobox.bronze.customers_stream"
   ]
  },
  {
   "cell_type": "code",
   "execution_count": 0,
   "metadata": {
    "application/vnd.databricks.v1+cell": {
     "cellMetadata": {
      "byteLimit": 2048000,
      "rowLimit": 10000
     },
     "inputWidgets": {},
     "nuid": "13bedca4-7030-42f4-a928-886b232a567b",
     "showTitle": false,
     "tableResultSettingsMap": {},
     "title": ""
    }
   },
   "outputs": [],
   "source": [
    "%python\n",
    "streaming_query.stop()"
   ]
  },
  {
   "cell_type": "code",
   "execution_count": 0,
   "metadata": {
    "application/vnd.databricks.v1+cell": {
     "cellMetadata": {},
     "inputWidgets": {},
     "nuid": "7a43df3b-5bde-4530-9208-ddac31ad8396",
     "showTitle": false,
     "tableResultSettingsMap": {},
     "title": ""
    }
   },
   "outputs": [],
   "source": []
  },
  {
   "cell_type": "markdown",
   "metadata": {
    "application/vnd.databricks.v1+cell": {
     "cellMetadata": {},
     "inputWidgets": {},
     "nuid": "c3b2f9d2-1b3d-432d-a13e-4e03c9ac5996",
     "showTitle": false,
     "tableResultSettingsMap": {},
     "title": ""
    }
   },
   "source": []
  },
  {
   "cell_type": "code",
   "execution_count": 0,
   "metadata": {
    "application/vnd.databricks.v1+cell": {
     "cellMetadata": {},
     "inputWidgets": {},
     "nuid": "e4013da7-1c9b-4450-b5b9-8a156a868721",
     "showTitle": false,
     "tableResultSettingsMap": {},
     "title": ""
    }
   },
   "outputs": [],
   "source": []
  }
 ],
 "metadata": {
  "application/vnd.databricks.v1+notebook": {
   "computePreferences": null,
   "dashboards": [],
   "environmentMetadata": {
    "base_environment": "",
    "environment_version": "2"
   },
   "inputWidgetPreferences": null,
   "language": "sql",
   "notebookMetadata": {
    "pythonIndentUnit": 4
   },
   "notebookName": "1. Ingest Customers stream",
   "widgets": {}
  },
  "language_info": {
   "name": "sql"
  }
 },
 "nbformat": 4,
 "nbformat_minor": 0
}
