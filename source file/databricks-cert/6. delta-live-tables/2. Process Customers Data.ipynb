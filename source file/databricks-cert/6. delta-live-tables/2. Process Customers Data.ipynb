{
 "cells": [
  {
   "cell_type": "markdown",
   "metadata": {
    "application/vnd.databricks.v1+cell": {
     "cellMetadata": {},
     "inputWidgets": {},
     "nuid": "0f66e637-8a73-44d4-b0c2-8d8fbed20e59",
     "showTitle": false,
     "tableResultSettingsMap": {},
     "title": ""
    }
   },
   "source": [
    "## Process the Customers Data \n",
    "1. Ingest the data into the data lakehouse - bronze_customers\n",
    "1. Perform data quality checks and transform the data as required - silver_customers_clean\n",
    "1. Apply changes to the Customers data - silver_customers"
   ]
  },
  {
   "cell_type": "markdown",
   "metadata": {
    "application/vnd.databricks.v1+cell": {
     "cellMetadata": {},
     "inputWidgets": {},
     "nuid": "a21432c6-a8e0-47f2-8186-a0110de9a21f",
     "showTitle": false,
     "tableResultSettingsMap": {},
     "title": ""
    }
   },
   "source": [
    "### 1. Ingest the data into the data lakehouse - bronze_customers"
   ]
  },
  {
   "cell_type": "code",
   "execution_count": 0,
   "metadata": {
    "application/vnd.databricks.v1+cell": {
     "cellMetadata": {
      "byteLimit": 2048000,
      "rowLimit": 10000
     },
     "inputWidgets": {},
     "nuid": "92dc327b-3700-4769-bee0-90e812b66ef0",
     "showTitle": false,
     "tableResultSettingsMap": {},
     "title": ""
    }
   },
   "outputs": [],
   "source": [
    "create or refresh streaming table bronze_customers\n",
    "comment 'Raw customers data ingested from the source system operational data'\n",
    "tblproperties ('quality' = 'bronze')\n",
    "as\n",
    "select \n",
    "    *, \n",
    "     _metadata.file_path as input_file_path,\n",
    "    current_timestamp as ingestion_timestamp\n",
    "from cloud_files(\n",
    "  '/Volumes/circuitbox/landing/operational_data/customers',\n",
    "  'json',\n",
    "  map('cloudFiles.inferColumnTypes', 'true')\n",
    "  );\n",
    "  "
   ]
  },
  {
   "cell_type": "markdown",
   "metadata": {
    "application/vnd.databricks.v1+cell": {
     "cellMetadata": {},
     "inputWidgets": {},
     "nuid": "23ce0522-6253-43b5-9ab7-c77faa14adff",
     "showTitle": false,
     "tableResultSettingsMap": {},
     "title": ""
    }
   },
   "source": [
    "### 2. Perform data quality checks and transform the data as required - silver_customers_clean"
   ]
  },
  {
   "cell_type": "code",
   "execution_count": 0,
   "metadata": {
    "application/vnd.databricks.v1+cell": {
     "cellMetadata": {},
     "inputWidgets": {},
     "nuid": "bbd9be56-c342-4210-8860-c683f5be46b6",
     "showTitle": false,
     "tableResultSettingsMap": {},
     "title": ""
    }
   },
   "outputs": [],
   "source": [
    "CREATE OR REFRESH STREAMING TABLE silver_customers_clean(\n",
    "  CONSTRAINT valid_customer_id EXPECT (customer_id IS NOT NULL) ON VIOLATION FAIL UPDATE,\n",
    "  CONSTRAINT valid_customer_name EXPECT (customer_name IS NOT NULL) ON VIOLATION DROP ROW,\n",
    "  CONSTRAINT valid_telephone EXPECT (LENGTH(telephone) >= 10),\n",
    "  CONSTRAINT valid_email EXPECT (email IS NOT NULL),\n",
    "  CONSTRAINT valid_date_of_birth EXPECT(date_of_birth >= '1920-01-01') \n",
    ")\n",
    "COMMENT 'Cleaned customers data'\n",
    "TBLPROPERTIES ('quality' = 'silver')\n",
    "AS\n",
    "SELECT customer_id,\n",
    "       customer_name,\n",
    "       CAST(date_of_birth AS DATE) AS date_of_birth,\n",
    "       telephone,\n",
    "       email,\n",
    "       CAST(created_date AS DATE) AS created_date\n",
    "  FROM STREAM(LIVE.bronze_customers)"
   ]
  },
  {
   "cell_type": "markdown",
   "metadata": {
    "application/vnd.databricks.v1+cell": {
     "cellMetadata": {},
     "inputWidgets": {},
     "nuid": "a2dc8cb6-f8a5-4f9c-ac10-6762f58a9d50",
     "showTitle": false,
     "tableResultSettingsMap": {},
     "title": ""
    }
   },
   "source": [
    "### 3. Apply changes to the Customers data - silver_customers"
   ]
  },
  {
   "cell_type": "code",
   "execution_count": 0,
   "metadata": {
    "application/vnd.databricks.v1+cell": {
     "cellMetadata": {},
     "inputWidgets": {},
     "nuid": "a97a1a0a-c141-4111-8706-54e82b16380e",
     "showTitle": false,
     "tableResultSettingsMap": {},
     "title": ""
    }
   },
   "outputs": [],
   "source": [
    "CREATE OR REFRESH STREAMING TABLE silver_customers\n",
    "COMMENT 'SCD Type 1 customers data'\n",
    "TBLPROPERTIES ('quality' = 'silver');"
   ]
  },
  {
   "cell_type": "code",
   "execution_count": 0,
   "metadata": {
    "application/vnd.databricks.v1+cell": {
     "cellMetadata": {},
     "inputWidgets": {},
     "nuid": "5e79cc24-7cb9-4b14-9bec-57475a73b1e6",
     "showTitle": false,
     "tableResultSettingsMap": {},
     "title": ""
    }
   },
   "outputs": [],
   "source": [
    "APPLY CHANGES INTO LIVE.silver_customers\n",
    "FROM STREAM(LIVE.silver_customers_clean)\n",
    "KEYS (customer_id)\n",
    "SEQUENCE BY created_date\n",
    "STORED AS SCD TYPE 1; "
   ]
  },
  {
   "cell_type": "markdown",
   "metadata": {
    "application/vnd.databricks.v1+cell": {
     "cellMetadata": {},
     "inputWidgets": {},
     "nuid": "4db46766-40b4-4916-afd4-1b989ac08354",
     "showTitle": false,
     "tableResultSettingsMap": {},
     "title": ""
    }
   },
   "source": []
  },
  {
   "cell_type": "code",
   "execution_count": 0,
   "metadata": {
    "application/vnd.databricks.v1+cell": {
     "cellMetadata": {},
     "inputWidgets": {},
     "nuid": "8f18c358-27f0-4992-ac38-29daf0b59fe9",
     "showTitle": false,
     "tableResultSettingsMap": {},
     "title": ""
    }
   },
   "outputs": [],
   "source": []
  }
 ],
 "metadata": {
  "application/vnd.databricks.v1+notebook": {
   "computePreferences": null,
   "dashboards": [],
   "environmentMetadata": {
    "base_environment": "",
    "environment_version": "2"
   },
   "inputWidgetPreferences": null,
   "language": "sql",
   "notebookMetadata": {
    "pythonIndentUnit": 4
   },
   "notebookName": "2. Process Customers Data",
   "widgets": {}
  },
  "language_info": {
   "name": "sql"
  }
 },
 "nbformat": 4,
 "nbformat_minor": 0
}
