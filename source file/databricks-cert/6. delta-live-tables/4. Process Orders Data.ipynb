{
 "cells": [
  {
   "cell_type": "markdown",
   "metadata": {
    "application/vnd.databricks.v1+cell": {
     "cellMetadata": {},
     "inputWidgets": {},
     "nuid": "2a4d271c-afb7-44ef-a4f1-5a9e792ba8de",
     "showTitle": false,
     "tableResultSettingsMap": {},
     "title": ""
    }
   },
   "source": [
    "## Process Orders Data \n",
    "1. Ingest the data into the data lakehouse - bronze_orders\n",
    "1. Perform data quality checks and transform the data as required - silver_orders_clean\n",
    "1. Explode the items array from the order object - silver_orders"
   ]
  },
  {
   "cell_type": "code",
   "execution_count": 0,
   "metadata": {
    "application/vnd.databricks.v1+cell": {
     "cellMetadata": {},
     "inputWidgets": {},
     "nuid": "b93087bd-851b-4dc7-a356-b31ea6f43015",
     "showTitle": false,
     "tableResultSettingsMap": {},
     "title": ""
    }
   },
   "outputs": [],
   "source": [
    "CREATE OR REFRESH STREAMING TABLE bronze_orders\n",
    "COMMENT \"Raw orders data ingested from the source system\"\n",
    "TBLPROPERTIES (\"quality\" = \"bronze\")\n",
    "AS\n",
    "SELECT *,\n",
    "        _metadata.file_path AS input_file_path,\n",
    "       CURRENT_TIMESTAMP AS ingestion_timestamp\n",
    "  FROM cloud_files(\n",
    "                    '/Volumes/circuitbox/landing/operational_data/orders/', \n",
    "                    'json',\n",
    "                    map(\"cloudFiles.inferColumnTypes\", \"true\")\n",
    "                   );"
   ]
  },
  {
   "cell_type": "markdown",
   "metadata": {
    "application/vnd.databricks.v1+cell": {
     "cellMetadata": {},
     "inputWidgets": {},
     "nuid": "4ac336f8-fe80-405a-bbb5-7995fd8fb4cb",
     "showTitle": false,
     "tableResultSettingsMap": {},
     "title": ""
    }
   },
   "source": [
    "### 2. Perform data quality checks and transform the data as required - silver_orders_clean"
   ]
  },
  {
   "cell_type": "code",
   "execution_count": 0,
   "metadata": {
    "application/vnd.databricks.v1+cell": {
     "cellMetadata": {},
     "inputWidgets": {},
     "nuid": "05d33332-d9bd-416d-a869-aa3625b35ed1",
     "showTitle": false,
     "tableResultSettingsMap": {},
     "title": ""
    }
   },
   "outputs": [],
   "source": [
    "CREATE OR REFRESH STREAMING TABLE silver_orders_clean(\n",
    "  CONSTRAINT valid_customer_id EXPECT (customer_id IS NOT NULL) ON VIOLATION FAIL UPDATE,\n",
    "  CONSTRAINT valid_order_id EXPECT (order_id IS NOT NULL) ON VIOLATION FAIL UPDATE,\n",
    "  CONSTRAINT valid_order_status EXPECT (order_status IN ('Pending', 'Shipped', 'Cancelled', 'Completed')),\n",
    "  CONSTRAINT valid_payment_method EXPECT (payment_method IN ('Credit Card', 'Bank Transfer', 'PayPal'))\n",
    ")\n",
    "COMMENT \"Cleaned orders data\"\n",
    "TBLPROPERTIES (\"quality\" = \"silver\")\n",
    "AS\n",
    "SELECT order_id,\n",
    "       customer_id,\n",
    "       CAST(order_timestamp AS TIMESTAMP) AS order_timestamp,\n",
    "       payment_method,\n",
    "       items,\n",
    "       order_status\n",
    "  FROM STREAM(LIVE.bronze_orders);"
   ]
  },
  {
   "cell_type": "markdown",
   "metadata": {
    "application/vnd.databricks.v1+cell": {
     "cellMetadata": {},
     "inputWidgets": {},
     "nuid": "8d5ebe5c-f9cc-470a-9122-336a98408852",
     "showTitle": false,
     "tableResultSettingsMap": {},
     "title": ""
    }
   },
   "source": [
    "### 3. Explode the items array from the order object - silver_orders"
   ]
  },
  {
   "cell_type": "code",
   "execution_count": 0,
   "metadata": {
    "application/vnd.databricks.v1+cell": {
     "cellMetadata": {},
     "inputWidgets": {},
     "nuid": "1db1bd17-25e0-4046-8b6c-b79c1a31e5e3",
     "showTitle": false,
     "tableResultSettingsMap": {},
     "title": ""
    }
   },
   "outputs": [],
   "source": [
    "CREATE STREAMING TABLE silver_orders\n",
    "AS\n",
    "SELECT order_id,\n",
    "      customer_id,\n",
    "      order_timestamp,\n",
    "      payment_method,\n",
    "      order_status,\n",
    "      item.item_id,\n",
    "      item.name AS item_name,\n",
    "      item.price AS item_price,\n",
    "      item.quantity AS item_quantity,\n",
    "      item.category AS item_category\n",
    "  FROM (SELECT order_id,\n",
    "              customer_id,\n",
    "              order_timestamp,\n",
    "              payment_method,\n",
    "              order_status,\n",
    "              explode(items) AS item\n",
    "          FROM STREAM(LIVE.silver_orders_clean));"
   ]
  },
  {
   "cell_type": "code",
   "execution_count": 0,
   "metadata": {
    "application/vnd.databricks.v1+cell": {
     "cellMetadata": {},
     "inputWidgets": {},
     "nuid": "41e9087b-c731-4a82-8304-1027d0e2b53f",
     "showTitle": false,
     "tableResultSettingsMap": {},
     "title": ""
    }
   },
   "outputs": [],
   "source": []
  }
 ],
 "metadata": {
  "application/vnd.databricks.v1+notebook": {
   "computePreferences": null,
   "dashboards": [],
   "environmentMetadata": {
    "base_environment": "",
    "environment_version": "2"
   },
   "inputWidgetPreferences": null,
   "language": "sql",
   "notebookMetadata": {
    "pythonIndentUnit": 4
   },
   "notebookName": "4. Process Orders Data",
   "widgets": {}
  },
  "language_info": {
   "name": "sql"
  }
 },
 "nbformat": 4,
 "nbformat_minor": 0
}
