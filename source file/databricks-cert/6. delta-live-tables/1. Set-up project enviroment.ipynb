{
 "cells": [
  {
   "cell_type": "markdown",
   "metadata": {
    "application/vnd.databricks.v1+cell": {
     "cellMetadata": {},
     "inputWidgets": {},
     "nuid": "afd31fdd-d96e-49ca-ab5a-45a539937ff3",
     "showTitle": false,
     "tableResultSettingsMap": {},
     "title": ""
    }
   },
   "source": [
    "## Set-up the project environment for CircuitBox Data Lakehouse\n",
    "1. Create external location - databricks_circuitbox\n",
    "1. Create Catalog - circuitbox\n",
    "1. Create Schemas\n",
    "    - landing\n",
    "    - lakehouse\n",
    "1. Create Volume - operational_data"
   ]
  },
  {
   "cell_type": "markdown",
   "metadata": {
    "application/vnd.databricks.v1+cell": {
     "cellMetadata": {},
     "inputWidgets": {},
     "nuid": "fc5b8ba0-012e-4abf-b140-f5af4eaa5462",
     "showTitle": false,
     "tableResultSettingsMap": {},
     "title": ""
    }
   },
   "source": [
    "### 1. Create External Location\n",
    "**External Location Name:** databricks_circuitbox \n",
    "_ADLS Path:_ [abfss://circuitbox@databricksuche.dfs.core.windows.net/](abfss://circuitbox@databricksuche.dfs.core.windows.net/)  \n",
    "_Storage Credential:_ databricks-course-extstorage"
   ]
  },
  {
   "cell_type": "code",
   "execution_count": 0,
   "metadata": {
    "application/vnd.databricks.v1+cell": {
     "cellMetadata": {
      "byteLimit": 2048000,
      "rowLimit": 10000
     },
     "inputWidgets": {},
     "nuid": "31fbcd3e-7c47-40bd-ba33-b19eb01b1796",
     "showTitle": false,
     "tableResultSettingsMap": {},
     "title": ""
    }
   },
   "outputs": [],
   "source": [
    "CREATE EXTERNAL LOCATION IF NOT EXISTS databricks_circuitbox\n",
    "  URL 'abfss://circuitbox@databricksuche.dfs.core.windows.net/'\n",
    "  WITH (STORAGE CREDENTIAL `databricks-course-extstorage`)\n",
    "  COMMENT 'External Location for the circuitbox data lakehouse';"
   ]
  },
  {
   "cell_type": "code",
   "execution_count": 0,
   "metadata": {
    "application/vnd.databricks.v1+cell": {
     "cellMetadata": {
      "byteLimit": 2048000,
      "rowLimit": 10000
     },
     "inputWidgets": {},
     "nuid": "cdf8372b-eba3-4c96-869f-4974374ce25f",
     "showTitle": false,
     "tableResultSettingsMap": {},
     "title": ""
    }
   },
   "outputs": [],
   "source": [
    "%fs ls 'abfss://circuitbox@databricksuche.dfs.core.windows.net/'"
   ]
  },
  {
   "cell_type": "markdown",
   "metadata": {
    "application/vnd.databricks.v1+cell": {
     "cellMetadata": {},
     "inputWidgets": {},
     "nuid": "332e1b24-f002-43f0-9879-ab9cdb8188f8",
     "showTitle": false,
     "tableResultSettingsMap": {},
     "title": ""
    }
   },
   "source": [
    "### 2. Create catalog \n",
    "**Catalog Name:** circuitbox  \n",
    "_Managed Location:_ [abfss://circuitbox@databricksuche.dfs.core.windows.net/]"
   ]
  },
  {
   "cell_type": "code",
   "execution_count": 0,
   "metadata": {
    "application/vnd.databricks.v1+cell": {
     "cellMetadata": {
      "byteLimit": 2048000,
      "rowLimit": 10000
     },
     "inputWidgets": {},
     "nuid": "5b902178-3b92-4c91-9942-0558e13ead7a",
     "showTitle": false,
     "tableResultSettingsMap": {},
     "title": ""
    }
   },
   "outputs": [],
   "source": [
    "CREATE CATALOG IF NOT EXISTS circuitbox\n",
    "  MANAGED LOCATION 'abfss://circuitbox@databricksuche.dfs.core.windows.net/'\n",
    "  COMMENT 'Catalog for the circuitbox data lakehouse';"
   ]
  },
  {
   "cell_type": "code",
   "execution_count": 0,
   "metadata": {
    "application/vnd.databricks.v1+cell": {
     "cellMetadata": {
      "byteLimit": 2048000,
      "rowLimit": 10000
     },
     "inputWidgets": {},
     "nuid": "a229e346-083c-4d8b-a57a-090d318b66a0",
     "showTitle": false,
     "tableResultSettingsMap": {},
     "title": ""
    }
   },
   "outputs": [],
   "source": [
    "show catalogs;"
   ]
  },
  {
   "cell_type": "markdown",
   "metadata": {
    "application/vnd.databricks.v1+cell": {
     "cellMetadata": {},
     "inputWidgets": {},
     "nuid": "1687ea6d-2e13-4e2f-b47d-72ccd10b02b1",
     "showTitle": false,
     "tableResultSettingsMap": {},
     "title": ""
    }
   },
   "source": [
    "### 3. Create Schemas"
   ]
  },
  {
   "cell_type": "code",
   "execution_count": 0,
   "metadata": {
    "application/vnd.databricks.v1+cell": {
     "cellMetadata": {
      "byteLimit": 2048000,
      "rowLimit": 10000
     },
     "inputWidgets": {},
     "nuid": "581f3bf0-74d0-45b8-82f1-2a21d5b28df8",
     "showTitle": false,
     "tableResultSettingsMap": {},
     "title": ""
    }
   },
   "outputs": [],
   "source": [
    "USE CATALOG circuitbox;\n",
    "\n",
    "CREATE SCHEMA IF NOT EXISTS landing\n",
    "   MANAGED LOCATION 'abfss://circuitbox@databricksuche.dfs.core.windows.net/landing';\n",
    "\n",
    "CREATE SCHEMA IF NOT EXISTS lakehouse\n",
    "   MANAGED LOCATION 'abfss://circuitbox@databricksuche.dfs.core.windows.net/lakehouse';"
   ]
  },
  {
   "cell_type": "code",
   "execution_count": 0,
   "metadata": {
    "application/vnd.databricks.v1+cell": {
     "cellMetadata": {
      "byteLimit": 2048000,
      "rowLimit": 10000
     },
     "inputWidgets": {},
     "nuid": "56f278c1-9e32-4710-afd0-2f4f803af75d",
     "showTitle": false,
     "tableResultSettingsMap": {},
     "title": ""
    }
   },
   "outputs": [],
   "source": [
    "SHOW SCHEMAS;"
   ]
  },
  {
   "cell_type": "markdown",
   "metadata": {
    "application/vnd.databricks.v1+cell": {
     "cellMetadata": {},
     "inputWidgets": {},
     "nuid": "b06412ad-0052-4201-b0cb-8f99478668f9",
     "showTitle": false,
     "tableResultSettingsMap": {},
     "title": ""
    }
   },
   "source": [
    "### 4. Create Volume\n",
    "**Volume Name:** operational_data  \n",
    "_ADLS Path:_ [abfss://circuitbox@databricksuche.dfs.core.windows.net/landing/operational_data/]\n"
   ]
  },
  {
   "cell_type": "code",
   "execution_count": 0,
   "metadata": {
    "application/vnd.databricks.v1+cell": {
     "cellMetadata": {
      "byteLimit": 2048000,
      "rowLimit": 10000
     },
     "inputWidgets": {},
     "nuid": "f22dd18d-6940-4e82-b71d-7552ad6e28e0",
     "showTitle": false,
     "tableResultSettingsMap": {},
     "title": ""
    }
   },
   "outputs": [],
   "source": [
    "USE CATALOG circuitbox;\n",
    "USE SCHEMA landing;\n",
    "\n",
    "CREATE EXTERNAL VOLUME IF NOT EXISTS operational_data\n",
    "      LOCATION 'abfss://circuitbox@databricksuche.dfs.core.windows.net/landing/operational_data';"
   ]
  },
  {
   "cell_type": "code",
   "execution_count": 0,
   "metadata": {
    "application/vnd.databricks.v1+cell": {
     "cellMetadata": {
      "byteLimit": 2048000,
      "rowLimit": 10000
     },
     "inputWidgets": {},
     "nuid": "fdd055ad-dce5-40ff-b480-e1c664d8e9b7",
     "showTitle": false,
     "tableResultSettingsMap": {},
     "title": ""
    }
   },
   "outputs": [],
   "source": [
    "%fs ls /Volumes/circuitbox/landing/operational_data"
   ]
  },
  {
   "cell_type": "markdown",
   "metadata": {
    "application/vnd.databricks.v1+cell": {
     "cellMetadata": {},
     "inputWidgets": {},
     "nuid": "d8c3772b-6eaf-482d-820c-66b8736944b2",
     "showTitle": false,
     "tableResultSettingsMap": {},
     "title": ""
    }
   },
   "source": []
  },
  {
   "cell_type": "code",
   "execution_count": 0,
   "metadata": {
    "application/vnd.databricks.v1+cell": {
     "cellMetadata": {},
     "inputWidgets": {},
     "nuid": "62c862e1-4370-4e3f-9564-efa27a1bfaca",
     "showTitle": false,
     "tableResultSettingsMap": {},
     "title": ""
    }
   },
   "outputs": [],
   "source": []
  }
 ],
 "metadata": {
  "application/vnd.databricks.v1+notebook": {
   "computePreferences": null,
   "dashboards": [],
   "environmentMetadata": {
    "base_environment": "",
    "environment_version": "2"
   },
   "inputWidgetPreferences": null,
   "language": "sql",
   "notebookMetadata": {
    "mostRecentlyExecutedCommandWithImplicitDF": {
     "commandId": 8093285017438392,
     "dataframes": [
      "_sqldf"
     ]
    },
    "pythonIndentUnit": 4
   },
   "notebookName": "1. Set-up project enviroment",
   "widgets": {}
  },
  "language_info": {
   "name": "sql"
  }
 },
 "nbformat": 4,
 "nbformat_minor": 0
}
