{
 "cells": [
  {
   "cell_type": "markdown",
   "metadata": {
    "application/vnd.databricks.v1+cell": {
     "cellMetadata": {},
     "inputWidgets": {},
     "nuid": "ced8e113-726d-41ce-9c9c-3ded0809736f",
     "showTitle": false,
     "tableResultSettingsMap": {},
     "title": ""
    }
   },
   "source": [
    "## Process Addresses Data \n",
    "1. Ingest the data into the data lakehouse - bronze_addresses\n",
    "1. Perform data quality checks and transform the data as required - silver_addresses_clean\n",
    "1. Apply changes to the Addresses data (SCD Type 2) - silver_addresses"
   ]
  },
  {
   "cell_type": "code",
   "execution_count": 0,
   "metadata": {
    "application/vnd.databricks.v1+cell": {
     "cellMetadata": {},
     "inputWidgets": {},
     "nuid": "a121fa39-7b8e-49a8-bffa-23ccca49ac8e",
     "showTitle": false,
     "tableResultSettingsMap": {},
     "title": ""
    }
   },
   "outputs": [],
   "source": [
    "\n",
    "import dlt\n",
    "import pyspark.sql.functions as F"
   ]
  },
  {
   "cell_type": "markdown",
   "metadata": {
    "application/vnd.databricks.v1+cell": {
     "cellMetadata": {},
     "inputWidgets": {},
     "nuid": "6e3f18de-e272-4f0a-b406-4bb3bb09d3f7",
     "showTitle": false,
     "tableResultSettingsMap": {},
     "title": ""
    }
   },
   "source": [
    "### 1. Ingest the data into the data lakehouse - bronze_addresses"
   ]
  },
  {
   "cell_type": "code",
   "execution_count": 0,
   "metadata": {
    "application/vnd.databricks.v1+cell": {
     "cellMetadata": {},
     "inputWidgets": {},
     "nuid": "5005dfe7-f1d3-4592-a2b9-caf3349031ac",
     "showTitle": false,
     "tableResultSettingsMap": {},
     "title": ""
    }
   },
   "outputs": [],
   "source": [
    "\n",
    "@dlt.table(\n",
    "    name = \"bronze_addresses\",\n",
    "    table_properties = {'quality' : 'bronze'},\n",
    "    comment = \"Raw addresses data ingested from the source system\"\n",
    ")\n",
    "def create_bronze_addresses():\n",
    "    return (\n",
    "        spark.readStream\n",
    "            .format(\"cloudFiles\")\n",
    "            .option(\"cloudFiles.format\", \"csv\")\n",
    "            .option(\"cloudFiles.inferColumnTypes\", \"true\")\n",
    "            .load(\"/Volumes/circuitbox/landing/operational_data/addresses/\")\n",
    "            .select(\n",
    "                \"*\",\n",
    "                F.col(\"_metadata.file_path\").alias(\"input_file_path\"),\n",
    "                F.current_timestamp().alias(\"ingest_timestamp\")\n",
    "            )\n",
    "    )"
   ]
  },
  {
   "cell_type": "markdown",
   "metadata": {
    "application/vnd.databricks.v1+cell": {
     "cellMetadata": {},
     "inputWidgets": {},
     "nuid": "15d9a6fe-8bbc-4088-8f36-2548a04c3571",
     "showTitle": false,
     "tableResultSettingsMap": {},
     "title": ""
    }
   },
   "source": [
    "### 2. Perform data quality checks and transform the data as required - silver_addresses_clean"
   ]
  },
  {
   "cell_type": "code",
   "execution_count": 0,
   "metadata": {
    "application/vnd.databricks.v1+cell": {
     "cellMetadata": {},
     "inputWidgets": {},
     "nuid": "db5e1585-1eb0-4ae4-b0cb-1949c9db616c",
     "showTitle": false,
     "tableResultSettingsMap": {},
     "title": ""
    }
   },
   "outputs": [],
   "source": [
    "\n",
    "@dlt.table(\n",
    "    name = \"silver_addresses_clean\",\n",
    "    comment = \"Cleaned addresses data\",\n",
    "    table_properties = {'quality' : 'silver'}\n",
    ")\n",
    "@dlt.expect_or_fail(\"valid_customer_id\", \"customer_id IS NOT NULL\")\n",
    "@dlt.expect_or_drop(\"valid_address\", \"address_line_1 IS NOT NULL\")\n",
    "@dlt.expect(\"valid_postcode\", \"LENGTH(postcode) = 5\")\n",
    "def create_silver_addresses_clean():\n",
    "    return (\n",
    "        spark.readStream.table(\"LIVE.bronze_addresses\")\n",
    "            .select(\n",
    "                \"customer_id\",\n",
    "                \"address_line_1\",\n",
    "                \"city\",\n",
    "                \"state\",\n",
    "                \"postcode\",\n",
    "                F.col(\"created_date\").cast(\"date\").alias(\"created_date\")\n",
    "            )\n",
    "    )\n"
   ]
  },
  {
   "cell_type": "markdown",
   "metadata": {
    "application/vnd.databricks.v1+cell": {
     "cellMetadata": {},
     "inputWidgets": {},
     "nuid": "e41b657d-3df1-4fc4-bde6-c018d39e8ccb",
     "showTitle": false,
     "tableResultSettingsMap": {},
     "title": ""
    }
   },
   "source": [
    "### 3. Apply changes to the Addresses data (SCD Type 2) - silver_addresses"
   ]
  },
  {
   "cell_type": "code",
   "execution_count": 0,
   "metadata": {
    "application/vnd.databricks.v1+cell": {
     "cellMetadata": {},
     "inputWidgets": {},
     "nuid": "d4e2ce45-2159-42db-b5da-7505c2e84b88",
     "showTitle": false,
     "tableResultSettingsMap": {},
     "title": ""
    }
   },
   "outputs": [],
   "source": [
    "dlt.create_streaming_table(\n",
    "    name = \"silver_addresses\",\n",
    "    comment = \"SCD Type 2 addresses data\",\n",
    "    table_properties = {'quality' : 'silver'}\n",
    ")"
   ]
  },
  {
   "cell_type": "code",
   "execution_count": 0,
   "metadata": {
    "application/vnd.databricks.v1+cell": {
     "cellMetadata": {},
     "inputWidgets": {},
     "nuid": "0da1fc38-fbea-4d5a-b92b-dfe508695cfd",
     "showTitle": false,
     "tableResultSettingsMap": {},
     "title": ""
    }
   },
   "outputs": [],
   "source": [
    "dlt.apply_changes(\n",
    "    target = \"silver_addresses\",\n",
    "    source = \"silver_addresses_clean\",\n",
    "    keys = [\"customer_id\"],\n",
    "    sequence_by = \"created_date\",\n",
    "    stored_as_scd_type = 2\n",
    ")"
   ]
  }
 ],
 "metadata": {
  "application/vnd.databricks.v1+notebook": {
   "computePreferences": null,
   "dashboards": [],
   "environmentMetadata": {
    "base_environment": "",
    "environment_version": "2"
   },
   "inputWidgetPreferences": null,
   "language": "python",
   "notebookMetadata": {
    "pythonIndentUnit": 4
   },
   "notebookName": "3. Process Addresses Data",
   "widgets": {}
  },
  "language_info": {
   "name": "python"
  }
 },
 "nbformat": 4,
 "nbformat_minor": 0
}
